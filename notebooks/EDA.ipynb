{
 "cells": [
  {
   "cell_type": "code",
   "execution_count": 83,
   "metadata": {},
   "outputs": [],
   "source": [
    "import sklearn\n",
    "import pandas as pd\n",
    "import matplotlib.pyplot as plt\n",
    "import seaborn as sns"
   ]
  },
  {
   "cell_type": "code",
   "execution_count": 84,
   "metadata": {},
   "outputs": [
    {
     "data": {
      "text/html": [
       "<div>\n",
       "<style scoped>\n",
       "    .dataframe tbody tr th:only-of-type {\n",
       "        vertical-align: middle;\n",
       "    }\n",
       "\n",
       "    .dataframe tbody tr th {\n",
       "        vertical-align: top;\n",
       "    }\n",
       "\n",
       "    .dataframe thead th {\n",
       "        text-align: right;\n",
       "    }\n",
       "</style>\n",
       "<table border=\"1\" class=\"dataframe\">\n",
       "  <thead>\n",
       "    <tr style=\"text-align: right;\">\n",
       "      <th></th>\n",
       "      <th>ID</th>\n",
       "      <th>Genre</th>\n",
       "      <th>Senior</th>\n",
       "      <th>Enfants</th>\n",
       "      <th>Anciennete</th>\n",
       "      <th>Multi-lignes</th>\n",
       "      <th>Service Internet</th>\n",
       "      <th>Autres Services</th>\n",
       "      <th>Partenaire</th>\n",
       "      <th>Contrat</th>\n",
       "      <th>Facturation electronique</th>\n",
       "      <th>Mode de paiement</th>\n",
       "      <th>charges mensuelles</th>\n",
       "      <th>Charges totales</th>\n",
       "      <th>Desabonnement</th>\n",
       "    </tr>\n",
       "  </thead>\n",
       "  <tbody>\n",
       "    <tr>\n",
       "      <th>0</th>\n",
       "      <td>1</td>\n",
       "      <td>Femme</td>\n",
       "      <td>0</td>\n",
       "      <td>Non</td>\n",
       "      <td>1</td>\n",
       "      <td>Non</td>\n",
       "      <td>DSL</td>\n",
       "      <td>Non</td>\n",
       "      <td>Oui</td>\n",
       "      <td>Mensuel</td>\n",
       "      <td>Oui</td>\n",
       "      <td>Cheque electronique</td>\n",
       "      <td>29,85</td>\n",
       "      <td>29,85</td>\n",
       "      <td>Non</td>\n",
       "    </tr>\n",
       "    <tr>\n",
       "      <th>1</th>\n",
       "      <td>2</td>\n",
       "      <td>Homme</td>\n",
       "      <td>0</td>\n",
       "      <td>Non</td>\n",
       "      <td>34</td>\n",
       "      <td>Non</td>\n",
       "      <td>DSL</td>\n",
       "      <td>Oui</td>\n",
       "      <td>Non</td>\n",
       "      <td>Annuel</td>\n",
       "      <td>Non</td>\n",
       "      <td>Cheque papier</td>\n",
       "      <td>56,95</td>\n",
       "      <td>1889,5</td>\n",
       "      <td>Non</td>\n",
       "    </tr>\n",
       "    <tr>\n",
       "      <th>2</th>\n",
       "      <td>3</td>\n",
       "      <td>Homme</td>\n",
       "      <td>0</td>\n",
       "      <td>Non</td>\n",
       "      <td>2</td>\n",
       "      <td>Non</td>\n",
       "      <td>DSL</td>\n",
       "      <td>Oui</td>\n",
       "      <td>Non</td>\n",
       "      <td>Mensuel</td>\n",
       "      <td>Oui</td>\n",
       "      <td>Cheque papier</td>\n",
       "      <td>53,85</td>\n",
       "      <td>108,15</td>\n",
       "      <td>Oui</td>\n",
       "    </tr>\n",
       "    <tr>\n",
       "      <th>3</th>\n",
       "      <td>4</td>\n",
       "      <td>Homme</td>\n",
       "      <td>0</td>\n",
       "      <td>Non</td>\n",
       "      <td>45</td>\n",
       "      <td>Non</td>\n",
       "      <td>DSL</td>\n",
       "      <td>Non</td>\n",
       "      <td>Non</td>\n",
       "      <td>Annuel</td>\n",
       "      <td>Non</td>\n",
       "      <td>Virement bancaire</td>\n",
       "      <td>42,3</td>\n",
       "      <td>1840,75</td>\n",
       "      <td>Non</td>\n",
       "    </tr>\n",
       "    <tr>\n",
       "      <th>4</th>\n",
       "      <td>5</td>\n",
       "      <td>Femme</td>\n",
       "      <td>0</td>\n",
       "      <td>Non</td>\n",
       "      <td>2</td>\n",
       "      <td>Non</td>\n",
       "      <td>Fibre optique</td>\n",
       "      <td>Oui</td>\n",
       "      <td>Non</td>\n",
       "      <td>Mensuel</td>\n",
       "      <td>Oui</td>\n",
       "      <td>Cheque electronique</td>\n",
       "      <td>70,7</td>\n",
       "      <td>151,65</td>\n",
       "      <td>Oui</td>\n",
       "    </tr>\n",
       "  </tbody>\n",
       "</table>\n",
       "</div>"
      ],
      "text/plain": [
       "   ID  Genre  Senior Enfants  Anciennete Multi-lignes Service Internet  \\\n",
       "0   1  Femme       0     Non           1          Non              DSL   \n",
       "1   2  Homme       0     Non          34          Non              DSL   \n",
       "2   3  Homme       0     Non           2          Non              DSL   \n",
       "3   4  Homme       0     Non          45          Non              DSL   \n",
       "4   5  Femme       0     Non           2          Non    Fibre optique   \n",
       "\n",
       "  Autres Services Partenaire  Contrat Facturation electronique  \\\n",
       "0             Non        Oui  Mensuel                      Oui   \n",
       "1             Oui        Non   Annuel                      Non   \n",
       "2             Oui        Non  Mensuel                      Oui   \n",
       "3             Non        Non   Annuel                      Non   \n",
       "4             Oui        Non  Mensuel                      Oui   \n",
       "\n",
       "      Mode de paiement charges mensuelles Charges totales Desabonnement  \n",
       "0  Cheque electronique              29,85           29,85           Non  \n",
       "1        Cheque papier              56,95          1889,5           Non  \n",
       "2        Cheque papier              53,85          108,15           Oui  \n",
       "3    Virement bancaire               42,3         1840,75           Non  \n",
       "4  Cheque electronique               70,7          151,65           Oui  "
      ]
     },
     "execution_count": 84,
     "metadata": {},
     "output_type": "execute_result"
    }
   ],
   "source": [
    "# Charger les données depuis le fichier CSV\n",
    "telecom_df = pd.read_csv('../datasets/Telecom-Data-1.csv', nrows=500, sep=';', header=0)\n",
    "\n",
    "# Afficher les 10 premières lignes du dataframe\n",
    "telecom_df.head(5)\n"
   ]
  },
  {
   "cell_type": "markdown",
   "metadata": {},
   "source": [
    "# Analyse Exploratoire des Données (EDA) avant le pretraitement"
   ]
  },
  {
   "cell_type": "code",
   "execution_count": 85,
   "metadata": {},
   "outputs": [
    {
     "data": {
      "text/html": [
       "<div>\n",
       "<style scoped>\n",
       "    .dataframe tbody tr th:only-of-type {\n",
       "        vertical-align: middle;\n",
       "    }\n",
       "\n",
       "    .dataframe tbody tr th {\n",
       "        vertical-align: top;\n",
       "    }\n",
       "\n",
       "    .dataframe thead th {\n",
       "        text-align: right;\n",
       "    }\n",
       "</style>\n",
       "<table border=\"1\" class=\"dataframe\">\n",
       "  <thead>\n",
       "    <tr style=\"text-align: right;\">\n",
       "      <th></th>\n",
       "      <th>ID</th>\n",
       "      <th>Senior</th>\n",
       "      <th>Anciennete</th>\n",
       "    </tr>\n",
       "  </thead>\n",
       "  <tbody>\n",
       "    <tr>\n",
       "      <th>count</th>\n",
       "      <td>500.000000</td>\n",
       "      <td>500.000000</td>\n",
       "      <td>500.00000</td>\n",
       "    </tr>\n",
       "    <tr>\n",
       "      <th>mean</th>\n",
       "      <td>291.794000</td>\n",
       "      <td>0.178000</td>\n",
       "      <td>31.79400</td>\n",
       "    </tr>\n",
       "    <tr>\n",
       "      <th>std</th>\n",
       "      <td>169.820097</td>\n",
       "      <td>0.382896</td>\n",
       "      <td>24.54703</td>\n",
       "    </tr>\n",
       "    <tr>\n",
       "      <th>min</th>\n",
       "      <td>1.000000</td>\n",
       "      <td>0.000000</td>\n",
       "      <td>0.00000</td>\n",
       "    </tr>\n",
       "    <tr>\n",
       "      <th>25%</th>\n",
       "      <td>142.750000</td>\n",
       "      <td>0.000000</td>\n",
       "      <td>8.00000</td>\n",
       "    </tr>\n",
       "    <tr>\n",
       "      <th>50%</th>\n",
       "      <td>293.500000</td>\n",
       "      <td>0.000000</td>\n",
       "      <td>28.00000</td>\n",
       "    </tr>\n",
       "    <tr>\n",
       "      <th>75%</th>\n",
       "      <td>438.250000</td>\n",
       "      <td>0.000000</td>\n",
       "      <td>55.00000</td>\n",
       "    </tr>\n",
       "    <tr>\n",
       "      <th>max</th>\n",
       "      <td>584.000000</td>\n",
       "      <td>1.000000</td>\n",
       "      <td>72.00000</td>\n",
       "    </tr>\n",
       "  </tbody>\n",
       "</table>\n",
       "</div>"
      ],
      "text/plain": [
       "               ID      Senior  Anciennete\n",
       "count  500.000000  500.000000   500.00000\n",
       "mean   291.794000    0.178000    31.79400\n",
       "std    169.820097    0.382896    24.54703\n",
       "min      1.000000    0.000000     0.00000\n",
       "25%    142.750000    0.000000     8.00000\n",
       "50%    293.500000    0.000000    28.00000\n",
       "75%    438.250000    0.000000    55.00000\n",
       "max    584.000000    1.000000    72.00000"
      ]
     },
     "execution_count": 85,
     "metadata": {},
     "output_type": "execute_result"
    }
   ],
   "source": [
    "# Explorer les statistiques descriptives\n",
    "descriptive_stats = telecom_df.describe()\n",
    "descriptive_stats"
   ]
  },
  {
   "cell_type": "code",
   "execution_count": 86,
   "metadata": {},
   "outputs": [
    {
     "data": {
      "image/png": "[encoded data removed]",
      "text/plain": [
       "<Figure size 800x600 with 1 Axes>"
      ]
     },
     "metadata": {},
     "output_type": "display_data"
    }
   ],
   "source": [
    "# Visualiser la distribution des classes de désabonnement\n",
    "plt.figure(figsize=(8, 6))\n",
    "sns.countplot(x='Desabonnement', data=telecom_df)\n",
    "plt.title('Distribution des classes de désabonnement')\n",
    "plt.show()"
   ]
  },
  {
   "cell_type": "markdown",
   "metadata": {},
   "source": [
    "# Prétraitement des Données\n"
   ]
  },
  {
   "cell_type": "code",
   "execution_count": 87,
   "metadata": {},
   "outputs": [
    {
     "data": {
      "text/html": [
       "<div>\n",
       "<style scoped>\n",
       "    .dataframe tbody tr th:only-of-type {\n",
       "        vertical-align: middle;\n",
       "    }\n",
       "\n",
       "    .dataframe tbody tr th {\n",
       "        vertical-align: top;\n",
       "    }\n",
       "\n",
       "    .dataframe thead th {\n",
       "        text-align: right;\n",
       "    }\n",
       "</style>\n",
       "<table border=\"1\" class=\"dataframe\">\n",
       "  <thead>\n",
       "    <tr style=\"text-align: right;\">\n",
       "      <th></th>\n",
       "      <th>ID</th>\n",
       "      <th>Genre</th>\n",
       "      <th>Senior</th>\n",
       "      <th>Enfants</th>\n",
       "      <th>Anciennete</th>\n",
       "      <th>Multi-lignes</th>\n",
       "      <th>Service Internet</th>\n",
       "      <th>Autres Services</th>\n",
       "      <th>Partenaire</th>\n",
       "      <th>Contrat</th>\n",
       "      <th>Facturation électronique</th>\n",
       "      <th>Mode de paiement</th>\n",
       "      <th>Charges mensuelles</th>\n",
       "      <th>Charges totales</th>\n",
       "      <th>Desabonnement</th>\n",
       "    </tr>\n",
       "  </thead>\n",
       "  <tbody>\n",
       "    <tr>\n",
       "      <th>0</th>\n",
       "      <td>1</td>\n",
       "      <td>Femme</td>\n",
       "      <td>0</td>\n",
       "      <td>Non</td>\n",
       "      <td>1</td>\n",
       "      <td>Non</td>\n",
       "      <td>DSL</td>\n",
       "      <td>Non</td>\n",
       "      <td>Oui</td>\n",
       "      <td>Mensuel</td>\n",
       "      <td>Oui</td>\n",
       "      <td>Cheque electronique</td>\n",
       "      <td>29,85</td>\n",
       "      <td>29,85</td>\n",
       "      <td>Non</td>\n",
       "    </tr>\n",
       "    <tr>\n",
       "      <th>1</th>\n",
       "      <td>2</td>\n",
       "      <td>Homme</td>\n",
       "      <td>0</td>\n",
       "      <td>Non</td>\n",
       "      <td>34</td>\n",
       "      <td>Non</td>\n",
       "      <td>DSL</td>\n",
       "      <td>Oui</td>\n",
       "      <td>Non</td>\n",
       "      <td>Annuel</td>\n",
       "      <td>Non</td>\n",
       "      <td>Cheque papier</td>\n",
       "      <td>56,95</td>\n",
       "      <td>1889,5</td>\n",
       "      <td>Non</td>\n",
       "    </tr>\n",
       "    <tr>\n",
       "      <th>2</th>\n",
       "      <td>3</td>\n",
       "      <td>Homme</td>\n",
       "      <td>0</td>\n",
       "      <td>Non</td>\n",
       "      <td>2</td>\n",
       "      <td>Non</td>\n",
       "      <td>DSL</td>\n",
       "      <td>Oui</td>\n",
       "      <td>Non</td>\n",
       "      <td>Mensuel</td>\n",
       "      <td>Oui</td>\n",
       "      <td>Cheque papier</td>\n",
       "      <td>53,85</td>\n",
       "      <td>108,15</td>\n",
       "      <td>Oui</td>\n",
       "    </tr>\n",
       "    <tr>\n",
       "      <th>3</th>\n",
       "      <td>4</td>\n",
       "      <td>Homme</td>\n",
       "      <td>0</td>\n",
       "      <td>Non</td>\n",
       "      <td>45</td>\n",
       "      <td>Non</td>\n",
       "      <td>DSL</td>\n",
       "      <td>Non</td>\n",
       "      <td>Non</td>\n",
       "      <td>Annuel</td>\n",
       "      <td>Non</td>\n",
       "      <td>Virement bancaire</td>\n",
       "      <td>42,3</td>\n",
       "      <td>1840,75</td>\n",
       "      <td>Non</td>\n",
       "    </tr>\n",
       "    <tr>\n",
       "      <th>4</th>\n",
       "      <td>5</td>\n",
       "      <td>Femme</td>\n",
       "      <td>0</td>\n",
       "      <td>Non</td>\n",
       "      <td>2</td>\n",
       "      <td>Non</td>\n",
       "      <td>Fibre optique</td>\n",
       "      <td>Oui</td>\n",
       "      <td>Non</td>\n",
       "      <td>Mensuel</td>\n",
       "      <td>Oui</td>\n",
       "      <td>Cheque electronique</td>\n",
       "      <td>70,7</td>\n",
       "      <td>151,65</td>\n",
       "      <td>Oui</td>\n",
       "    </tr>\n",
       "  </tbody>\n",
       "</table>\n",
       "</div>"
      ],
      "text/plain": [
       "   ID  Genre  Senior Enfants  Anciennete Multi-lignes Service Internet  \\\n",
       "0   1  Femme       0     Non           1          Non              DSL   \n",
       "1   2  Homme       0     Non          34          Non              DSL   \n",
       "2   3  Homme       0     Non           2          Non              DSL   \n",
       "3   4  Homme       0     Non          45          Non              DSL   \n",
       "4   5  Femme       0     Non           2          Non    Fibre optique   \n",
       "\n",
       "  Autres Services Partenaire  Contrat Facturation électronique  \\\n",
       "0             Non        Oui  Mensuel                      Oui   \n",
       "1             Oui        Non   Annuel                      Non   \n",
       "2             Oui        Non  Mensuel                      Oui   \n",
       "3             Non        Non   Annuel                      Non   \n",
       "4             Oui        Non  Mensuel                      Oui   \n",
       "\n",
       "      Mode de paiement Charges mensuelles Charges totales Desabonnement  \n",
       "0  Cheque electronique              29,85           29,85           Non  \n",
       "1        Cheque papier              56,95          1889,5           Non  \n",
       "2        Cheque papier              53,85          108,15           Oui  \n",
       "3    Virement bancaire               42,3         1840,75           Non  \n",
       "4  Cheque electronique               70,7          151,65           Oui  "
      ]
     },
     "execution_count": 87,
     "metadata": {},
     "output_type": "execute_result"
    }
   ],
   "source": [
    "# Renommer les colonnes si nécessaire\n",
    "telecom_df.columns = ['ID', 'Genre', 'Senior', 'Enfants', 'Anciennete', 'Multi-lignes', 'Service Internet', 'Autres Services', 'Partenaire', 'Contrat', 'Facturation électronique', 'Mode de paiement', 'Charges mensuelles', 'Charges totales', 'Desabonnement']\n",
    "\n",
    "# Afficher les 10 premières lignes du dataframe\n",
    "telecom_df.head(5)\n"
   ]
  },
  {
   "cell_type": "code",
   "execution_count": 88,
   "metadata": {},
   "outputs": [
    {
     "data": {
      "text/plain": [
       "Index(['ID', 'Genre', 'Senior', 'Enfants', 'Anciennete', 'Multi-lignes',\n",
       "       'Service Internet', 'Autres Services', 'Partenaire', 'Contrat',\n",
       "       'Facturation électronique', 'Mode de paiement', 'Charges mensuelles',\n",
       "       'Charges totales', 'Desabonnement'],\n",
       "      dtype='object')"
      ]
     },
     "execution_count": 88,
     "metadata": {},
     "output_type": "execute_result"
    }
   ],
   "source": [
    "telecom_df.columns"
   ]
  },
  {
   "cell_type": "code",
   "execution_count": 89,
   "metadata": {},
   "outputs": [
    {
     "data": {
      "text/plain": [
       "(500, 15)"
      ]
     },
     "execution_count": 89,
     "metadata": {},
     "output_type": "execute_result"
    }
   ],
   "source": [
    "telecom_df.shape"
   ]
  },
  {
   "cell_type": "code",
   "execution_count": 90,
   "metadata": {},
   "outputs": [
    {
     "name": "stdout",
     "output_type": "stream",
     "text": [
      "Nombre de valeurs manquantes par colonne :\n",
      "ID                          0\n",
      "Genre                       0\n",
      "Senior                      0\n",
      "Enfants                     0\n",
      "Anciennete                  0\n",
      "Multi-lignes                0\n",
      "Service Internet            0\n",
      "Autres Services             0\n",
      "Partenaire                  0\n",
      "Contrat                     0\n",
      "Facturation électronique    0\n",
      "Mode de paiement            0\n",
      "Charges mensuelles          1\n",
      "Charges totales             2\n",
      "Desabonnement               0\n",
      "dtype: int64\n",
      "\n",
      "Colonnes avec des valeurs manquantes :\n",
      "Charges mensuelles    1\n",
      "Charges totales       2\n",
      "dtype: int64\n"
     ]
    }
   ],
   "source": [
    "# Afficher le nombre de valeurs manquantes par colonne\n",
    "missing_values = telecom_df.isnull().sum()\n",
    "\n",
    "# Afficher les colonnes avec des valeurs manquantes\n",
    "columns_with_missing_values = missing_values[missing_values > 0]\n",
    "\n",
    "# Afficher les résultats\n",
    "print(\"Nombre de valeurs manquantes par colonne :\")\n",
    "print(missing_values)\n",
    "\n",
    "print(\"\\nColonnes avec des valeurs manquantes :\")\n",
    "print(columns_with_missing_values)\n"
   ]
  },
  {
   "cell_type": "code",
   "execution_count": 91,
   "metadata": {},
   "outputs": [
    {
     "data": {
      "image/png": "[encoded data removed]",
      "text/plain": [
       "<Figure size 640x480 with 1 Axes>"
      ]
     },
     "metadata": {},
     "output_type": "display_data"
    }
   ],
   "source": [
    "# Afficher une heatmap des valeurs manquantes\n",
    "sns.heatmap(telecom_df.isnull(), cbar=False, cmap='plasma')\n",
    "\n",
    "# Afficher le plot\n",
    "plt.show()"
   ]
  },
  {
   "cell_type": "code",
   "execution_count": 92,
   "metadata": {},
   "outputs": [],
   "source": [
    "\n",
    "telecom_df=telecom_df.dropna()"
   ]
  },
  {
   "cell_type": "code",
   "execution_count": 93,
   "metadata": {},
   "outputs": [
    {
     "data": {
      "text/plain": [
       "(498, 15)"
      ]
     },
     "execution_count": 93,
     "metadata": {},
     "output_type": "execute_result"
    }
   ],
   "source": [
    "telecom_df.shape"
   ]
  },
  {
   "cell_type": "code",
   "execution_count": 94,
   "metadata": {},
   "outputs": [
    {
     "data": {
      "text/plain": [
       "ID                          0\n",
       "Genre                       0\n",
       "Senior                      0\n",
       "Enfants                     0\n",
       "Anciennete                  0\n",
       "Multi-lignes                0\n",
       "Service Internet            0\n",
       "Autres Services             0\n",
       "Partenaire                  0\n",
       "Contrat                     0\n",
       "Facturation électronique    0\n",
       "Mode de paiement            0\n",
       "Charges mensuelles          0\n",
       "Charges totales             0\n",
       "Desabonnement               0\n",
       "dtype: int64"
      ]
     },
     "execution_count": 94,
     "metadata": {},
     "output_type": "execute_result"
    }
   ],
   "source": [
    "telecom_df[telecom_df.isnull().any(axis=1)].count()"
   ]
  },
  {
   "cell_type": "code",
   "execution_count": 100,
   "metadata": {},
   "outputs": [
    {
     "name": "stdout",
     "output_type": "stream",
     "text": [
      "Types de variables :\n",
      "ID                           int64\n",
      "Genre                       object\n",
      "Senior                       int64\n",
      "Enfants                     object\n",
      "Anciennete                   int64\n",
      "Multi-lignes                object\n",
      "Service Internet            object\n",
      "Autres Services             object\n",
      "Partenaire                  object\n",
      "Contrat                     object\n",
      "Facturation électronique    object\n",
      "Mode de paiement            object\n",
      "Charges mensuelles          object\n",
      "Charges totales             object\n",
      "Desabonnement               object\n",
      "dtype: object\n",
      "\n",
      "Variables catégorielles :\n",
      "Index(['Genre', 'Enfants', 'Multi-lignes', 'Service Internet',\n",
      "       'Autres Services', 'Partenaire', 'Contrat', 'Facturation électronique',\n",
      "       'Mode de paiement', 'Charges mensuelles', 'Charges totales',\n",
      "       'Desabonnement'],\n",
      "      dtype='object')\n"
     ]
    }
   ],
   "source": [
    "# Afficher les types de variables pour chaque colonne\n",
    "types_variables = telecom_df.dtypes\n",
    "print(\"Types de variables :\")\n",
    "print(types_variables)\n",
    "\n",
    "# Lister les variables catégorielles\n",
    "variables_categorielles = telecom_df.select_dtypes(include=['object']).columns\n",
    "print(\"\\nVariables catégorielles :\")\n",
    "print(variables_categorielles)"
   ]
  },
  {
   "cell_type": "markdown",
   "metadata": {},
   "source": [
    "\n",
    "# Analyse Exploratoire des Données (EDA) après prétraitement"
   ]
  },
  {
   "cell_type": "code",
   "execution_count": 98,
   "metadata": {},
   "outputs": [
    {
     "data": {
      "text/html": [
       "<div>\n",
       "<style scoped>\n",
       "    .dataframe tbody tr th:only-of-type {\n",
       "        vertical-align: middle;\n",
       "    }\n",
       "\n",
       "    .dataframe tbody tr th {\n",
       "        vertical-align: top;\n",
       "    }\n",
       "\n",
       "    .dataframe thead th {\n",
       "        text-align: right;\n",
       "    }\n",
       "</style>\n",
       "<table border=\"1\" class=\"dataframe\">\n",
       "  <thead>\n",
       "    <tr style=\"text-align: right;\">\n",
       "      <th></th>\n",
       "      <th>ID</th>\n",
       "      <th>Senior</th>\n",
       "      <th>Anciennete</th>\n",
       "    </tr>\n",
       "  </thead>\n",
       "  <tbody>\n",
       "    <tr>\n",
       "      <th>count</th>\n",
       "      <td>498.000000</td>\n",
       "      <td>498.000000</td>\n",
       "      <td>498.000000</td>\n",
       "    </tr>\n",
       "    <tr>\n",
       "      <th>mean</th>\n",
       "      <td>291.919679</td>\n",
       "      <td>0.176707</td>\n",
       "      <td>31.917671</td>\n",
       "    </tr>\n",
       "    <tr>\n",
       "      <th>std</th>\n",
       "      <td>169.531268</td>\n",
       "      <td>0.381804</td>\n",
       "      <td>24.518281</td>\n",
       "    </tr>\n",
       "    <tr>\n",
       "      <th>min</th>\n",
       "      <td>1.000000</td>\n",
       "      <td>0.000000</td>\n",
       "      <td>1.000000</td>\n",
       "    </tr>\n",
       "    <tr>\n",
       "      <th>25%</th>\n",
       "      <td>143.500000</td>\n",
       "      <td>0.000000</td>\n",
       "      <td>8.250000</td>\n",
       "    </tr>\n",
       "    <tr>\n",
       "      <th>50%</th>\n",
       "      <td>293.500000</td>\n",
       "      <td>0.000000</td>\n",
       "      <td>28.000000</td>\n",
       "    </tr>\n",
       "    <tr>\n",
       "      <th>75%</th>\n",
       "      <td>437.750000</td>\n",
       "      <td>0.000000</td>\n",
       "      <td>55.000000</td>\n",
       "    </tr>\n",
       "    <tr>\n",
       "      <th>max</th>\n",
       "      <td>584.000000</td>\n",
       "      <td>1.000000</td>\n",
       "      <td>72.000000</td>\n",
       "    </tr>\n",
       "  </tbody>\n",
       "</table>\n",
       "</div>"
      ],
      "text/plain": [
       "               ID      Senior  Anciennete\n",
       "count  498.000000  498.000000  498.000000\n",
       "mean   291.919679    0.176707   31.917671\n",
       "std    169.531268    0.381804   24.518281\n",
       "min      1.000000    0.000000    1.000000\n",
       "25%    143.500000    0.000000    8.250000\n",
       "50%    293.500000    0.000000   28.000000\n",
       "75%    437.750000    0.000000   55.000000\n",
       "max    584.000000    1.000000   72.000000"
      ]
     },
     "execution_count": 98,
     "metadata": {},
     "output_type": "execute_result"
    }
   ],
   "source": [
    "# Explorer les statistiques descriptives après le prétraitement\n",
    "descriptive_stats_after_preprocessing = telecom_df.describe()\n",
    "descriptive_stats_after_preprocessing"
   ]
  },
  {
   "cell_type": "code",
   "execution_count": 99,
   "metadata": {},
   "outputs": [
    {
     "data": {
      "image/png": "[encoded data removed]",
      "text/plain": [
       "<Figure size 800x600 with 1 Axes>"
      ]
     },
     "metadata": {},
     "output_type": "display_data"
    }
   ],
   "source": [
    "# Visualiser la distribution des classes de désabonnement après le prétraitement\n",
    "plt.figure(figsize=(8, 6))\n",
    "sns.countplot(x='Desabonnement', data=telecom_df)\n",
    "plt.title('Distribution des classes de désabonnement après le prétraitement')\n",
    "plt.show()"
   ]
  },
  {
   "cell_type": "code",
   "execution_count": null,
   "metadata": {},
   "outputs": [],
   "source": [
    "# Identifier les tendances et corrélations entre les caractéristiques après le prétraitement\n",
    "correlation_matrix_after_preprocessing = telecom_df.corr()\n",
    "plt.figure(figsize=(10, 8))\n",
    "sns.heatmap(correlation_matrix_after_preprocessing, annot=True, cmap='coolwarm')\n",
    "plt.title('Matrice de corrélation après le prétraitement')\n",
    "plt.show()"
   ]
  }
 ],
 "metadata": {
  "kernelspec": {
   "display_name": "EnvChurnGuardML",
   "language": "python",
   "name": "python3"
  },
  "language_info": {
   "codemirror_mode": {
    "name": "ipython",
    "version": 3
   },
   "file_extension": ".py",
   "mimetype": "text/x-python",
   "name": "python",
   "nbconvert_exporter": "python",
   "pygments_lexer": "ipython3",
   "version": "3.8.18"
  }
 },
 "nbformat": 4,
 "nbformat_minor": 2
}
